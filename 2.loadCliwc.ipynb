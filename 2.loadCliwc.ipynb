{
 "cells": [
  {
   "cell_type": "code",
   "execution_count": null,
   "id": "7887479a-df58-4088-b0c4-b4573d8557a4",
   "metadata": {},
   "outputs": [],
   "source": [
    "import pandas as pd\n",
    "\n",
    "# 讀取cliwc.dicx，建為DataFrame\n",
    "def loadCliwctoDf():\n",
    "    with open('LIWC2015 Dictionary - Chinese (Traditional) (v1.5).dicx', encoding='utf-8') as cliwcD:\n",
    "        lines = cliwcD.readlines()\n",
    "        i=0\n",
    "        for line in lines:\n",
    "            if i == 0:\n",
    "                l = line.split('\\n')[0].split(',')\n",
    "                df = pd.DataFrame(columns= l)\n",
    "            if i > 0:\n",
    "                l = line.split('\\n')[0].split(',')\n",
    "                l = [ 0 if i=='' else i  for i in l ]\n",
    "                l[0] = l[0].replace('\"','') \n",
    "                l[0] = l[0].replace(')','\\)')\n",
    "                l[0] = l[0].replace('(','\\(')\n",
    "                l[0] = l[0].replace('+','\\+')\n",
    "                l[0] = l[0].replace('*','\\*')\n",
    "                df.loc[len(df.index)] = l\n",
    "            i+=1\n",
    "        return df\n",
    "\n",
    "df = loadCliwctoDf()\n",
    "# 讀取cliwc的table寫到Cliwcloader.csv，以便存取\n",
    "df.to_csv('Cliwcloader.csv',encoding='UTF-8-Sig')\n"
   ]
  }
 ],
 "metadata": {
  "kernelspec": {
   "display_name": "Python 3 (ipykernel)",
   "language": "python",
   "name": "python3"
  },
  "language_info": {
   "codemirror_mode": {
    "name": "ipython",
    "version": 3
   },
   "file_extension": ".py",
   "mimetype": "text/x-python",
   "name": "python",
   "nbconvert_exporter": "python",
   "pygments_lexer": "ipython3",
   "version": "3.10.3"
  }
 },
 "nbformat": 4,
 "nbformat_minor": 5
}
